{
  "cells": [
    {
      "cell_type": "markdown",
      "id": "5bf0b41b",
      "metadata": {
        "id": "5bf0b41b"
      },
      "source": [
        "# **Support Vector Machine(SVM)**"
      ]
    },
    {
      "cell_type": "markdown",
      "id": "20c77411",
      "metadata": {
        "id": "20c77411"
      },
      "source": [
        "# **Introduction to SVM**"
      ]
    },
    {
      "cell_type": "markdown",
      "id": "849a8de0",
      "metadata": {
        "id": "849a8de0"
      },
      "source": [
        "Support Vector Machine (SVM) is a\n",
        "robust classification and regression\n",
        "technique that maximizes the\n",
        "predictive accuracy of a model without\n",
        "overfitting the training data.\n",
        "\n",
        "SVM is particularly suited to\n",
        "analyzing data with very large\n",
        "numbers (for example, thousands) of\n",
        "predictor fields."
      ]
    },
    {
      "cell_type": "markdown",
      "id": "38678980",
      "metadata": {
        "id": "38678980"
      },
      "source": [
        "# **Import Libraries**"
      ]
    },
    {
      "cell_type": "code",
      "execution_count": 1,
      "id": "8d7bcde9",
      "metadata": {
        "id": "8d7bcde9"
      },
      "outputs": [],
      "source": [
        "import matplotlib.pyplot as plt #matplotlib.pyplot: for plotting\n",
        "%matplotlib inline\n",
        "import pylab as pl #a matplotlib-based Python environment\n",
        "from sklearn.datasets import load_digits #Load and return the digits dataset (classification)\n",
        "from sklearn.model_selection import train_test_split\n",
        "from sklearn import svm"
      ]
    },
    {
      "cell_type": "markdown",
      "id": "30d31f32",
      "metadata": {
        "id": "30d31f32"
      },
      "source": [
        "# **Import Handwritten Built-in Dataset**"
      ]
    },
    {
      "cell_type": "code",
      "execution_count": 2,
      "id": "eb2e7076",
      "metadata": {
        "id": "eb2e7076"
      },
      "outputs": [],
      "source": [
        "digits = load_digits() #imports built-in dataset of handwritten numbers"
      ]
    },
    {
      "cell_type": "markdown",
      "id": "a93391d1",
      "metadata": {
        "id": "a93391d1"
      },
      "source": [
        "# **Display Sample digit from Dataset**"
      ]
    },
    {
      "cell_type": "code",
      "execution_count": 3,
      "id": "51e70db0",
      "metadata": {
        "scrolled": true,
        "id": "51e70db0",
        "outputId": "f75f8b12-2a3d-4caf-a675-acd2b844d9be",
        "colab": {
          "base_uri": "https://localhost:8080/",
          "height": 455
        }
      },
      "outputs": [
        {
          "output_type": "display_data",
          "data": {
            "text/plain": [
              "<Figure size 640x480 with 0 Axes>"
            ]
          },
          "metadata": {}
        },
        {
          "output_type": "display_data",
          "data": {
            "text/plain": [
              "<Figure size 480x480 with 1 Axes>"
            ],
            "image/png": "[encoded data removed]"
          },
          "metadata": {}
        }
      ],
      "source": [
        "pl.gray()\n",
        "pl.matshow(digits.images[2]) #try to change the index value of images[] and observe\n",
        "pl.show()"
      ]
    },
    {
      "cell_type": "markdown",
      "id": "d987a8b5",
      "metadata": {
        "id": "d987a8b5"
      },
      "source": [
        "# **Displaying pixel view of Digit**"
      ]
    },
    {
      "cell_type": "code",
      "execution_count": 4,
      "id": "a80732e8",
      "metadata": {
        "id": "a80732e8",
        "outputId": "7fc9636a-d3f7-4487-97ac-8705178d6553",
        "colab": {
          "base_uri": "https://localhost:8080/"
        }
      },
      "outputs": [
        {
          "output_type": "execute_result",
          "data": {
            "text/plain": [
              "array([[ 0.,  0.,  0.,  4., 15., 12.,  0.,  0.],\n",
              "       [ 0.,  0.,  3., 16., 15., 14.,  0.,  0.],\n",
              "       [ 0.,  0.,  8., 13.,  8., 16.,  0.,  0.],\n",
              "       [ 0.,  0.,  1.,  6., 15., 11.,  0.,  0.],\n",
              "       [ 0.,  1.,  8., 13., 15.,  1.,  0.,  0.],\n",
              "       [ 0.,  9., 16., 16.,  5.,  0.,  0.,  0.],\n",
              "       [ 0.,  3., 13., 16., 16., 11.,  5.,  0.],\n",
              "       [ 0.,  0.,  0.,  3., 11., 16.,  9.,  0.]])"
            ]
          },
          "metadata": {},
          "execution_count": 4
        }
      ],
      "source": [
        "digits.images[2] #displays the pixel corresponding to hand written numbers"
      ]
    },
    {
      "cell_type": "markdown",
      "id": "244ce2ea",
      "metadata": {
        "id": "244ce2ea"
      },
      "source": [
        "# **Display more digits along with Labels from Dataset**"
      ]
    },
    {
      "cell_type": "code",
      "execution_count": 5,
      "id": "51b10ad9",
      "metadata": {
        "id": "51b10ad9",
        "outputId": "6dd98dc3-3ee4-41a2-f19c-fc2d97208d35",
        "colab": {
          "base_uri": "https://localhost:8080/",
          "height": 397
        }
      },
      "outputs": [
        {
          "output_type": "display_data",
          "data": {
            "text/plain": [
              "<Figure size 500x500 with 15 Axes>"
            ],
            "image/png": "[encoded data removed]"
          },
          "metadata": {}
        }
      ],
      "source": [
        "images_labels = list(zip(digits.images, digits.target))\n",
        "plt.figure(figsize = (5,5))\n",
        "for index, (image, label) in enumerate(images_labels[:15]):\n",
        "    plt.subplot(3, 5, index + 1)\n",
        "    plt.axis('off')\n",
        "    plt.imshow(image, cmap=plt.cm.gray_r, interpolation='nearest')\n",
        "    plt.title('%i' %label)"
      ]
    },
    {
      "cell_type": "markdown",
      "id": "a442aacc",
      "metadata": {
        "id": "a442aacc"
      },
      "source": [
        "# **Displaying the Length of Dataset**"
      ]
    },
    {
      "cell_type": "code",
      "execution_count": 6,
      "id": "ce717990",
      "metadata": {
        "id": "ce717990",
        "outputId": "374f0be3-b602-4a59-a66a-aef006c83493",
        "colab": {
          "base_uri": "https://localhost:8080/"
        }
      },
      "outputs": [
        {
          "output_type": "stream",
          "name": "stdout",
          "text": [
            "1797\n"
          ]
        }
      ],
      "source": [
        "samples = len(digits.images)\n",
        "print(samples)"
      ]
    },
    {
      "cell_type": "markdown",
      "id": "815567d6",
      "metadata": {
        "id": "815567d6"
      },
      "source": [
        "# **Divide the Dataset into Input and Target Variables**"
      ]
    },
    {
      "cell_type": "code",
      "execution_count": 7,
      "id": "ad9d2a65",
      "metadata": {
        "id": "ad9d2a65"
      },
      "outputs": [],
      "source": [
        "x = digits.images.reshape((samples, -1)) #input features are samples\n",
        "y = digits.target #output are the target labels"
      ]
    },
    {
      "cell_type": "markdown",
      "id": "b3fbfd30",
      "metadata": {
        "id": "b3fbfd30"
      },
      "source": [
        "# **Divide the Dataset into Train and Test sets by randomly splitting dataset**"
      ]
    },
    {
      "cell_type": "code",
      "execution_count": 8,
      "id": "7b1ee908",
      "metadata": {
        "id": "7b1ee908",
        "outputId": "ce5c9358-3190-44c9-c0ea-adfa8dde1fc0",
        "colab": {
          "base_uri": "https://localhost:8080/"
        }
      },
      "outputs": [
        {
          "output_type": "stream",
          "name": "stdout",
          "text": [
            "(1347, 64)\n",
            "(450, 64)\n"
          ]
        }
      ],
      "source": [
        "x_train, x_test, y_train, y_test = train_test_split(x, y)\n",
        "print(x_train.shape)\n",
        "print(x_test.shape)"
      ]
    },
    {
      "cell_type": "markdown",
      "id": "0a4f16c6",
      "metadata": {
        "id": "0a4f16c6"
      },
      "source": [
        "# **Support Vector Machine with Linear Kernel**"
      ]
    },
    {
      "cell_type": "code",
      "execution_count": 9,
      "id": "3e9ff678",
      "metadata": {
        "id": "3e9ff678"
      },
      "outputs": [],
      "source": [
        "from sklearn import svm\n",
        "model_linear = svm.SVC(kernel = 'linear', degree=3, gamma='scale')\n",
        "model_linear.fit(x_train, y_train)\n",
        "\n",
        "y_pred = model_linear.predict(x_test)"
      ]
    },
    {
      "cell_type": "markdown",
      "id": "86780a33",
      "metadata": {
        "id": "86780a33"
      },
      "source": [
        "# **Evaluating Accuracy**"
      ]
    },
    {
      "cell_type": "code",
      "execution_count": 10,
      "id": "2452ded5",
      "metadata": {
        "id": "2452ded5",
        "outputId": "c651c5dd-0bde-4774-eabb-13f27a6bcec1",
        "colab": {
          "base_uri": "https://localhost:8080/"
        }
      },
      "outputs": [
        {
          "output_type": "execute_result",
          "data": {
            "text/plain": [
              "0.9733333333333334"
            ]
          },
          "metadata": {},
          "execution_count": 10
        }
      ],
      "source": [
        "model_linear.score(x_test, y_test)"
      ]
    }
  ],
  "metadata": {
    "kernelspec": {
      "display_name": "Python 3",
      "language": "python",
      "name": "python3"
    },
    "language_info": {
      "codemirror_mode": {
        "name": "ipython",
        "version": 3
      },
      "file_extension": ".py",
      "mimetype": "text/x-python",
      "name": "python",
      "nbconvert_exporter": "python",
      "pygments_lexer": "ipython3",
      "version": "3.8.8"
    },
    "toc": {
      "base_numbering": 1,
      "nav_menu": {},
      "number_sections": true,
      "sideBar": true,
      "skip_h1_title": false,
      "title_cell": "Table of Contents",
      "title_sidebar": "Contents",
      "toc_cell": false,
      "toc_position": {},
      "toc_section_display": true,
      "toc_window_display": true
    },
    "colab": {
      "provenance": []
    }
  },
  "nbformat": 4,
  "nbformat_minor": 5
}